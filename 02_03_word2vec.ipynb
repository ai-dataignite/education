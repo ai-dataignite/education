{
 "cells": [
  {
   "cell_type": "markdown",
   "metadata": {},
   "source": [
    "### 뉴스 데이터 불러오기"
   ]
  },
  {
   "cell_type": "code",
   "execution_count": 14,
   "metadata": {},
   "outputs": [],
   "source": [
    "import pandas as pd\n",
    "df = pd.read_csv(\"naver_news_lecture.csv\", encoding=\"ansi\")"
   ]
  },
  {
   "cell_type": "code",
   "execution_count": 15,
   "metadata": {},
   "outputs": [
    {
     "data": {
      "text/html": [
       "<div>\n",
       "<style scoped>\n",
       "    .dataframe tbody tr th:only-of-type {\n",
       "        vertical-align: middle;\n",
       "    }\n",
       "\n",
       "    .dataframe tbody tr th {\n",
       "        vertical-align: top;\n",
       "    }\n",
       "\n",
       "    .dataframe thead th {\n",
       "        text-align: right;\n",
       "    }\n",
       "</style>\n",
       "<table border=\"1\" class=\"dataframe\">\n",
       "  <thead>\n",
       "    <tr style=\"text-align: right;\">\n",
       "      <th></th>\n",
       "      <th>collected_time</th>\n",
       "      <th>url</th>\n",
       "      <th>id</th>\n",
       "      <th>press</th>\n",
       "      <th>category</th>\n",
       "      <th>title</th>\n",
       "      <th>contents</th>\n",
       "      <th>date</th>\n",
       "    </tr>\n",
       "  </thead>\n",
       "  <tbody>\n",
       "    <tr>\n",
       "      <th>0</th>\n",
       "      <td>2019-07-03 00:15:51</td>\n",
       "      <td>https://news.naver.com/main/read.nhn?mode=LPOD...</td>\n",
       "      <td>oid=055&amp;aid=0000740272</td>\n",
       "      <td>SBS</td>\n",
       "      <td>속보</td>\n",
       "      <td>나이지리아 남동부서 송유관 폭발해 최소 8명 사망</td>\n",
       "      <td>서아프리카 나이지리아에서 송유관이 폭발해 최소 8명이 숨졌다고 AFP 통신이 보도했...</td>\n",
       "      <td>20190624</td>\n",
       "    </tr>\n",
       "    <tr>\n",
       "      <th>1</th>\n",
       "      <td>2019-07-03 00:15:53</td>\n",
       "      <td>https://news.naver.com/main/read.nhn?mode=LPOD...</td>\n",
       "      <td>oid=055&amp;aid=0000740273</td>\n",
       "      <td>SBS</td>\n",
       "      <td>속보</td>\n",
       "      <td>'꼰대 요즘 것' 사이 동시통역자…총알받이 된 '낀 세대'</td>\n",
       "      <td>동영상 뉴스\\n \\n [SBS 스페셜] 마흔, 팀장님은 왜 그럴까 ①\\n \\n ● ...</td>\n",
       "      <td>20190624</td>\n",
       "    </tr>\n",
       "    <tr>\n",
       "      <th>2</th>\n",
       "      <td>2019-07-03 00:15:54</td>\n",
       "      <td>https://news.naver.com/main/read.nhn?mode=LPOD...</td>\n",
       "      <td>oid=055&amp;aid=0000740274</td>\n",
       "      <td>SBS</td>\n",
       "      <td>속보</td>\n",
       "      <td>회사 임원도 '님' 찾아 삼만리…꼰대와 선배 사이 동상이몽</td>\n",
       "      <td>동영상 뉴스\\n \\n [SBS 스페셜] 마흔, 팀장님은 왜 그럴까 ②\\n \\n ● ...</td>\n",
       "      <td>20190624</td>\n",
       "    </tr>\n",
       "    <tr>\n",
       "      <th>3</th>\n",
       "      <td>2019-07-03 00:15:55</td>\n",
       "      <td>https://news.naver.com/main/read.nhn?mode=LPOD...</td>\n",
       "      <td>oid=055&amp;aid=0000740275</td>\n",
       "      <td>SBS</td>\n",
       "      <td>속보</td>\n",
       "      <td>\"맛이 아닌 유행 파는 시대\"…세대 전쟁 속 40대의 속사정</td>\n",
       "      <td>동영상 뉴스\\n \\n [SBS 스페셜] 마흔, 팀장님은 왜 그럴까 ③\\n \\n ● ...</td>\n",
       "      <td>20190624</td>\n",
       "    </tr>\n",
       "    <tr>\n",
       "      <th>4</th>\n",
       "      <td>2019-07-03 00:15:56</td>\n",
       "      <td>https://news.naver.com/main/read.nhn?mode=LPOD...</td>\n",
       "      <td>oid=055&amp;aid=0000740276</td>\n",
       "      <td>SBS</td>\n",
       "      <td>속보</td>\n",
       "      <td>美 인디애나 사우스벤드서 총격 사건…1명 숨지고 8명 부상</td>\n",
       "      <td>미국 인디애나주 사우스벤드의 한 술집에서 현지 시간으로 23일 총격 사건이 발생해 ...</td>\n",
       "      <td>20190624</td>\n",
       "    </tr>\n",
       "  </tbody>\n",
       "</table>\n",
       "</div>"
      ],
      "text/plain": [
       "        collected_time                                                url  \\\n",
       "0  2019-07-03 00:15:51  https://news.naver.com/main/read.nhn?mode=LPOD...   \n",
       "1  2019-07-03 00:15:53  https://news.naver.com/main/read.nhn?mode=LPOD...   \n",
       "2  2019-07-03 00:15:54  https://news.naver.com/main/read.nhn?mode=LPOD...   \n",
       "3  2019-07-03 00:15:55  https://news.naver.com/main/read.nhn?mode=LPOD...   \n",
       "4  2019-07-03 00:15:56  https://news.naver.com/main/read.nhn?mode=LPOD...   \n",
       "\n",
       "                       id press category                              title  \\\n",
       "0  oid=055&aid=0000740272   SBS       속보        나이지리아 남동부서 송유관 폭발해 최소 8명 사망   \n",
       "1  oid=055&aid=0000740273   SBS       속보   '꼰대 요즘 것' 사이 동시통역자…총알받이 된 '낀 세대'   \n",
       "2  oid=055&aid=0000740274   SBS       속보   회사 임원도 '님' 찾아 삼만리…꼰대와 선배 사이 동상이몽   \n",
       "3  oid=055&aid=0000740275   SBS       속보  \"맛이 아닌 유행 파는 시대\"…세대 전쟁 속 40대의 속사정   \n",
       "4  oid=055&aid=0000740276   SBS       속보   美 인디애나 사우스벤드서 총격 사건…1명 숨지고 8명 부상   \n",
       "\n",
       "                                            contents      date  \n",
       "0  서아프리카 나이지리아에서 송유관이 폭발해 최소 8명이 숨졌다고 AFP 통신이 보도했...  20190624  \n",
       "1  동영상 뉴스\\n \\n [SBS 스페셜] 마흔, 팀장님은 왜 그럴까 ①\\n \\n ● ...  20190624  \n",
       "2  동영상 뉴스\\n \\n [SBS 스페셜] 마흔, 팀장님은 왜 그럴까 ②\\n \\n ● ...  20190624  \n",
       "3  동영상 뉴스\\n \\n [SBS 스페셜] 마흔, 팀장님은 왜 그럴까 ③\\n \\n ● ...  20190624  \n",
       "4  미국 인디애나주 사우스벤드의 한 술집에서 현지 시간으로 23일 총격 사건이 발생해 ...  20190624  "
      ]
     },
     "execution_count": 15,
     "metadata": {},
     "output_type": "execute_result"
    }
   ],
   "source": [
    "df.head()"
   ]
  },
  {
   "cell_type": "code",
   "execution_count": 16,
   "metadata": {},
   "outputs": [],
   "source": [
    "df = df[[\"press\",\"title\", \"contents\", \"date\"]]"
   ]
  },
  {
   "cell_type": "code",
   "execution_count": 17,
   "metadata": {},
   "outputs": [
    {
     "data": {
      "text/html": [
       "<div>\n",
       "<style scoped>\n",
       "    .dataframe tbody tr th:only-of-type {\n",
       "        vertical-align: middle;\n",
       "    }\n",
       "\n",
       "    .dataframe tbody tr th {\n",
       "        vertical-align: top;\n",
       "    }\n",
       "\n",
       "    .dataframe thead th {\n",
       "        text-align: right;\n",
       "    }\n",
       "</style>\n",
       "<table border=\"1\" class=\"dataframe\">\n",
       "  <thead>\n",
       "    <tr style=\"text-align: right;\">\n",
       "      <th></th>\n",
       "      <th>press</th>\n",
       "      <th>title</th>\n",
       "      <th>contents</th>\n",
       "      <th>date</th>\n",
       "    </tr>\n",
       "  </thead>\n",
       "  <tbody>\n",
       "    <tr>\n",
       "      <th>0</th>\n",
       "      <td>SBS</td>\n",
       "      <td>나이지리아 남동부서 송유관 폭발해 최소 8명 사망</td>\n",
       "      <td>서아프리카 나이지리아에서 송유관이 폭발해 최소 8명이 숨졌다고 AFP 통신이 보도했...</td>\n",
       "      <td>20190624</td>\n",
       "    </tr>\n",
       "    <tr>\n",
       "      <th>1</th>\n",
       "      <td>SBS</td>\n",
       "      <td>'꼰대 요즘 것' 사이 동시통역자…총알받이 된 '낀 세대'</td>\n",
       "      <td>동영상 뉴스\\n \\n [SBS 스페셜] 마흔, 팀장님은 왜 그럴까 ①\\n \\n ● ...</td>\n",
       "      <td>20190624</td>\n",
       "    </tr>\n",
       "    <tr>\n",
       "      <th>2</th>\n",
       "      <td>SBS</td>\n",
       "      <td>회사 임원도 '님' 찾아 삼만리…꼰대와 선배 사이 동상이몽</td>\n",
       "      <td>동영상 뉴스\\n \\n [SBS 스페셜] 마흔, 팀장님은 왜 그럴까 ②\\n \\n ● ...</td>\n",
       "      <td>20190624</td>\n",
       "    </tr>\n",
       "    <tr>\n",
       "      <th>3</th>\n",
       "      <td>SBS</td>\n",
       "      <td>\"맛이 아닌 유행 파는 시대\"…세대 전쟁 속 40대의 속사정</td>\n",
       "      <td>동영상 뉴스\\n \\n [SBS 스페셜] 마흔, 팀장님은 왜 그럴까 ③\\n \\n ● ...</td>\n",
       "      <td>20190624</td>\n",
       "    </tr>\n",
       "    <tr>\n",
       "      <th>4</th>\n",
       "      <td>SBS</td>\n",
       "      <td>美 인디애나 사우스벤드서 총격 사건…1명 숨지고 8명 부상</td>\n",
       "      <td>미국 인디애나주 사우스벤드의 한 술집에서 현지 시간으로 23일 총격 사건이 발생해 ...</td>\n",
       "      <td>20190624</td>\n",
       "    </tr>\n",
       "  </tbody>\n",
       "</table>\n",
       "</div>"
      ],
      "text/plain": [
       "  press                              title  \\\n",
       "0   SBS        나이지리아 남동부서 송유관 폭발해 최소 8명 사망   \n",
       "1   SBS   '꼰대 요즘 것' 사이 동시통역자…총알받이 된 '낀 세대'   \n",
       "2   SBS   회사 임원도 '님' 찾아 삼만리…꼰대와 선배 사이 동상이몽   \n",
       "3   SBS  \"맛이 아닌 유행 파는 시대\"…세대 전쟁 속 40대의 속사정   \n",
       "4   SBS   美 인디애나 사우스벤드서 총격 사건…1명 숨지고 8명 부상   \n",
       "\n",
       "                                            contents      date  \n",
       "0  서아프리카 나이지리아에서 송유관이 폭발해 최소 8명이 숨졌다고 AFP 통신이 보도했...  20190624  \n",
       "1  동영상 뉴스\\n \\n [SBS 스페셜] 마흔, 팀장님은 왜 그럴까 ①\\n \\n ● ...  20190624  \n",
       "2  동영상 뉴스\\n \\n [SBS 스페셜] 마흔, 팀장님은 왜 그럴까 ②\\n \\n ● ...  20190624  \n",
       "3  동영상 뉴스\\n \\n [SBS 스페셜] 마흔, 팀장님은 왜 그럴까 ③\\n \\n ● ...  20190624  \n",
       "4  미국 인디애나주 사우스벤드의 한 술집에서 현지 시간으로 23일 총격 사건이 발생해 ...  20190624  "
      ]
     },
     "execution_count": 17,
     "metadata": {},
     "output_type": "execute_result"
    }
   ],
   "source": [
    "df.head()"
   ]
  },
  {
   "cell_type": "code",
   "execution_count": 33,
   "metadata": {},
   "outputs": [],
   "source": [
    "df = df[df[\"press\"] == \"SBS\"]"
   ]
  },
  {
   "cell_type": "code",
   "execution_count": 73,
   "metadata": {},
   "outputs": [
    {
     "name": "stdout",
     "output_type": "stream",
     "text": [
      "<class 'pandas.core.frame.DataFrame'>\n",
      "Int64Index: 1608 entries, 0 to 1607\n",
      "Data columns (total 4 columns):\n",
      "press       1608 non-null object\n",
      "title       1608 non-null object\n",
      "contents    1608 non-null object\n",
      "date        1608 non-null int64\n",
      "dtypes: int64(1), object(3)\n",
      "memory usage: 62.8+ KB\n"
     ]
    }
   ],
   "source": [
    "df.info()"
   ]
  },
  {
   "cell_type": "markdown",
   "metadata": {},
   "source": [
    "### Word2Vec 구현"
   ]
  },
  {
   "cell_type": "code",
   "execution_count": 43,
   "metadata": {},
   "outputs": [],
   "source": [
    "from gensim.models import Word2Vec\n",
    "from IPython.display import clear_output\n",
    "# Open Korean Text\n",
    "from konlpy.tag import Okt"
   ]
  },
  {
   "cell_type": "code",
   "execution_count": 44,
   "metadata": {},
   "outputs": [
    {
     "name": "stdout",
     "output_type": "stream",
     "text": [
      "진행 상황 : 1608 / 1608\n"
     ]
    }
   ],
   "source": [
    "# corpus 배열 준비\n",
    "corpus = []\n",
    "\n",
    "okt = Okt()\n",
    "\n",
    "progress = 0\n",
    "# contents 를 형태소분석기로 분석하여 단어 단위로 추출\n",
    "for idx in range(len(df)):\n",
    "    text = df[\"contents\"].iloc[idx]\n",
    "    words = okt.nouns(text)\n",
    "    corpus.append(words)\n",
    "    \n",
    "    # 진행 상황을 출력\n",
    "    progress += 1\n",
    "    clear_output(wait=True)\n",
    "    print(\"진행 상황 :\", progress, \"/\", len(df))"
   ]
  },
  {
   "cell_type": "code",
   "execution_count": 45,
   "metadata": {},
   "outputs": [],
   "source": [
    "# word2vec 모델 생성\n",
    "model = Word2Vec(corpus, \n",
    "                 size=10, #밀집백터의 크기 \n",
    "                 window=5, \n",
    "                 min_count=3)"
   ]
  },
  {
   "cell_type": "code",
   "execution_count": 60,
   "metadata": {},
   "outputs": [
    {
     "data": {
      "text/plain": [
       "8503"
      ]
     },
     "execution_count": 60,
     "metadata": {},
     "output_type": "execute_result"
    }
   ],
   "source": [
    "len(model.wv.vocab)"
   ]
  },
  {
   "cell_type": "code",
   "execution_count": 67,
   "metadata": {},
   "outputs": [
    {
     "name": "stdout",
     "output_type": "stream",
     "text": [
      "있음\n"
     ]
    }
   ],
   "source": [
    "if \"한국\" in model.wv.vocab:\n",
    "    print(\"있음\")\n",
    "else:\n",
    "    print(\"없음\")"
   ]
  },
  {
   "cell_type": "code",
   "execution_count": 78,
   "metadata": {},
   "outputs": [
    {
     "data": {
      "text/plain": [
       "[('만남', 0.9840904474258423),\n",
       " ('정상회담', 0.9727777242660522),\n",
       " ('김아영', 0.9716449975967407),\n",
       " ('역사', 0.9692376255989075),\n",
       " ('남', 0.9612958431243896),\n",
       " ('김수형', 0.9570285081863403),\n",
       " ('송욱', 0.948162317276001),\n",
       " ('회', 0.9372761845588684),\n",
       " ('정준형', 0.9312841892242432),\n",
       " ('정유미', 0.9278957843780518),\n",
       " ('전병', 0.9261915683746338),\n",
       " ('북러', 0.9225388765335083),\n",
       " ('북미', 0.9203310608863831),\n",
       " ('방한', 0.9186040163040161),\n",
       " ('김정윤', 0.9156360030174255),\n",
       " ('은어', 0.9141068458557129),\n",
       " ('변곡점', 0.910027027130127),\n",
       " ('갖', 0.9042288064956665),\n",
       " ('워싱턴', 0.8983995914459229),\n",
       " ('웨이보', 0.8953824043273926),\n",
       " ('정성엽', 0.8921277523040771),\n",
       " ('안정식', 0.8918570876121521),\n",
       " ('폼페이', 0.8918143510818481),\n",
       " ('사상', 0.8906508684158325),\n",
       " ('김혜영', 0.8887549638748169),\n",
       " ('권종', 0.8842672109603882),\n",
       " ('특파원', 0.8795378804206848),\n",
       " ('강윤', 0.8724081516265869),\n",
       " ('분계선', 0.8707165122032166),\n",
       " ('호건', 0.867127001285553),\n",
       " ('박하', 0.8669597506523132),\n",
       " ('핫이슈', 0.8660143613815308),\n",
       " ('규', 0.865005373954773),\n",
       " ('고안', 0.8638437986373901),\n",
       " ('포옹', 0.8635463714599609),\n",
       " ('일곱', 0.8619780540466309),\n",
       " ('트럼프', 0.8611524105072021),\n",
       " ('이방', 0.8607345819473267),\n",
       " ('통신', 0.8589264154434204),\n",
       " ('보도', 0.8568512201309204),\n",
       " ('정형', 0.853460431098938),\n",
       " ('비치', 0.8529157638549805),\n",
       " ('정상', 0.8485586643218994),\n",
       " ('권란', 0.8484054803848267),\n",
       " ('국무장관', 0.8476706743240356),\n",
       " ('정근', 0.8475107550621033),\n",
       " ('택', 0.8371097445487976),\n",
       " ('주목', 0.8366174101829529),\n",
       " ('맞닥뜨리', 0.8365834355354309),\n",
       " ('최희진', 0.8345906734466553)]"
      ]
     },
     "execution_count": 78,
     "metadata": {},
     "output_type": "execute_result"
    }
   ],
   "source": [
    "model.wv.most_similar(\"판문점\", topn=50)"
   ]
  },
  {
   "cell_type": "code",
   "execution_count": 75,
   "metadata": {},
   "outputs": [
    {
     "name": "stderr",
     "output_type": "stream",
     "text": [
      "C:\\dev\\workspace_python\\testML\\lib\\site-packages\\smart_open\\smart_open_lib.py:398: UserWarning: This function is deprecated, use smart_open.open instead. See the migration notes for details: https://github.com/RaRe-Technologies/smart_open/blob/master/README.rst#migrating-to-the-new-open-function\n",
      "  'See the migration notes for details: %s' % _MIGRATION_NOTES_URL\n"
     ]
    }
   ],
   "source": [
    "# 모델의 저장\n",
    "model.save(\"naver_news.model\")"
   ]
  },
  {
   "cell_type": "code",
   "execution_count": 77,
   "metadata": {},
   "outputs": [
    {
     "name": "stderr",
     "output_type": "stream",
     "text": [
      "C:\\dev\\workspace_python\\testML\\lib\\site-packages\\smart_open\\smart_open_lib.py:398: UserWarning: This function is deprecated, use smart_open.open instead. See the migration notes for details: https://github.com/RaRe-Technologies/smart_open/blob/master/README.rst#migrating-to-the-new-open-function\n",
      "  'See the migration notes for details: %s' % _MIGRATION_NOTES_URL\n"
     ]
    },
    {
     "data": {
      "text/plain": [
       "[('만남', 0.9840904474258423),\n",
       " ('정상회담', 0.9727777242660522),\n",
       " ('김아영', 0.9716449975967407),\n",
       " ('역사', 0.9692376255989075),\n",
       " ('남', 0.9612958431243896),\n",
       " ('김수형', 0.9570285081863403),\n",
       " ('송욱', 0.948162317276001),\n",
       " ('회', 0.9372761845588684),\n",
       " ('정준형', 0.9312841892242432),\n",
       " ('정유미', 0.9278957843780518),\n",
       " ('전병', 0.9261915683746338),\n",
       " ('북러', 0.9225388765335083),\n",
       " ('북미', 0.9203310608863831),\n",
       " ('방한', 0.9186040163040161),\n",
       " ('김정윤', 0.9156360030174255),\n",
       " ('은어', 0.9141068458557129),\n",
       " ('변곡점', 0.910027027130127),\n",
       " ('갖', 0.9042288064956665),\n",
       " ('워싱턴', 0.8983995914459229),\n",
       " ('웨이보', 0.8953824043273926),\n",
       " ('정성엽', 0.8921277523040771),\n",
       " ('안정식', 0.8918570876121521),\n",
       " ('폼페이', 0.8918143510818481),\n",
       " ('사상', 0.8906508684158325),\n",
       " ('김혜영', 0.8887549638748169),\n",
       " ('권종', 0.8842672109603882),\n",
       " ('특파원', 0.8795378804206848),\n",
       " ('강윤', 0.8724081516265869),\n",
       " ('분계선', 0.8707165122032166),\n",
       " ('호건', 0.867127001285553),\n",
       " ('박하', 0.8669597506523132),\n",
       " ('핫이슈', 0.8660143613815308),\n",
       " ('규', 0.865005373954773),\n",
       " ('고안', 0.8638437986373901),\n",
       " ('포옹', 0.8635463714599609),\n",
       " ('일곱', 0.8619780540466309),\n",
       " ('트럼프', 0.8611524105072021),\n",
       " ('이방', 0.8607345819473267),\n",
       " ('통신', 0.8589264154434204),\n",
       " ('보도', 0.8568512201309204),\n",
       " ('정형', 0.853460431098938),\n",
       " ('비치', 0.8529157638549805),\n",
       " ('정상', 0.8485586643218994),\n",
       " ('권란', 0.8484054803848267),\n",
       " ('국무장관', 0.8476706743240356),\n",
       " ('정근', 0.8475107550621033),\n",
       " ('택', 0.8371097445487976),\n",
       " ('주목', 0.8366174101829529),\n",
       " ('맞닥뜨리', 0.8365834355354309),\n",
       " ('최희진', 0.8345906734466553)]"
      ]
     },
     "execution_count": 77,
     "metadata": {},
     "output_type": "execute_result"
    }
   ],
   "source": [
    "# 모델 불러오기\n",
    "model = Word2Vec.load(\"naver_news.model\")\n",
    "model.wv.most_similar(\"판문점\", topn=50)"
   ]
  },
  {
   "cell_type": "code",
   "execution_count": null,
   "metadata": {},
   "outputs": [],
   "source": []
  }
 ],
 "metadata": {
  "kernelspec": {
   "display_name": "testML",
   "language": "python",
   "name": "testml"
  },
  "language_info": {
   "codemirror_mode": {
    "name": "ipython",
    "version": 3
   },
   "file_extension": ".py",
   "mimetype": "text/x-python",
   "name": "python",
   "nbconvert_exporter": "python",
   "pygments_lexer": "ipython3",
   "version": "3.6.8"
  }
 },
 "nbformat": 4,
 "nbformat_minor": 2
}
